{
 "cells": [
  {
   "cell_type": "code",
   "execution_count": 45,
   "id": "b5ec3d7f-2410-4bee-aa35-5f78e3670840",
   "metadata": {},
   "outputs": [],
   "source": [
    "from datetime import datetime\n",
    "\n",
    "'''\n",
    "We firstly read the data into suitable formats\n",
    "'''\n",
    "\n",
    "with open('Hills.gpx') as f:\n",
    "    lines = f.readlines()\n",
    "    \n",
    "latlon = [] # a list of latlon tuples\n",
    "height = [] # a list of hieght points as a float\n",
    "time = [] # a list of datetimes\n",
    "\n",
    "flag = 0\n",
    "for l in lines:\n",
    "    if flag == 1:\n",
    "        h = float(l.replace(\"<ele>\", \"\").replace(\"</ele>\", \"\"))\n",
    "        height.append(h)\n",
    "        flag = 2\n",
    "                  \n",
    "    elif flag == 2:\n",
    "        t = l.replace(\"<time>\", \"\").replace(\"</time>\", \"\").replace(\" \", \"\")\n",
    "        t = t.replace(\"T\", \" \").replace(\"Z\", \"\").replace(\"\\n\", \"\")\n",
    "        t = datetime.strptime(t, '%Y-%m-%d %H:%M:%S')\n",
    "        time.append(t)\n",
    "        flag = 0\n",
    "        \n",
    "    if \"<trkpt\" in l:\n",
    "        lat = l.split()[1]\n",
    "        lon = l.split()[2]\n",
    "        lat = float(lat.replace(\"lat=\", \"\").replace('\"', \"\"))\n",
    "        lon = float(lon.replace(\"lon=\", \"\").replace(\">\", \"\").replace('\"', \"\"))\n",
    "        \n",
    "        latlon.append((lat, lon))\n",
    "        flag = 1\n",
    " "
   ]
  },
  {
   "cell_type": "code",
   "execution_count": 53,
   "id": "0f75f9ce-136e-4ad2-9bfa-ea18049b30a4",
   "metadata": {},
   "outputs": [
    {
     "name": "stdout",
     "output_type": "stream",
     "text": [
      "Total Elevation: 613.9m\n"
     ]
    }
   ],
   "source": [
    "'''\n",
    "This section works out total elevation\n",
    "'''\n",
    "\n",
    "total_elev = 0\n",
    "\n",
    "\n",
    "for i in range(len(height) - 1):\n",
    "    #height calculations\n",
    "    if height[i] < height[i+1]:\n",
    "        total_elev += height[i+1] - height[i]\n",
    "\n",
    "print(\"Total Elevation: \" + str(round(total_elev, 2)) + \"m\")"
   ]
  },
  {
   "cell_type": "code",
   "execution_count": null,
   "id": "86eaa4de-352a-48c2-b0d9-f12e57528e6c",
   "metadata": {},
   "outputs": [],
   "source": []
  }
 ],
 "metadata": {
  "kernelspec": {
   "display_name": "Python 3 (ipykernel)",
   "language": "python",
   "name": "python3"
  },
  "language_info": {
   "codemirror_mode": {
    "name": "ipython",
    "version": 3
   },
   "file_extension": ".py",
   "mimetype": "text/x-python",
   "name": "python",
   "nbconvert_exporter": "python",
   "pygments_lexer": "ipython3",
   "version": "3.9.7"
  }
 },
 "nbformat": 4,
 "nbformat_minor": 5
}
